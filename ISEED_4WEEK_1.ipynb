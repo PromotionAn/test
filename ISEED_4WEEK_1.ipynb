{
 "cells": [
  {
   "cell_type": "code",
   "execution_count": 6,
   "metadata": {},
   "outputs": [
    {
     "name": "stdout",
     "output_type": "stream",
     "text": [
      "p$y$t$h$o$n$"
     ]
    }
   ],
   "source": [
    "#assignment1 5번\n",
    "\n",
    "ss = 'python'\n",
    "\n",
    "sslen = len(ss)\n",
    "for i in range(0, sslen):\n",
    "    print(ss[i] + '$', end='')\n",
    "\n"
   ]
  },
  {
   "cell_type": "code",
   "execution_count": 7,
   "metadata": {},
   "outputs": [
    {
     "name": "stdout",
     "output_type": "stream",
     "text": [
      "내용을 거꾸로 출력 --> nohtyP \n"
     ]
    }
   ],
   "source": [
    "#assignment1 9번\n",
    "\n",
    "inStr, outStr = 'Python', ''\n",
    "strlen = len(inStr)\n",
    "\n",
    "for i in range (0, strlen):\n",
    "    outStr += inStr[strlen - (i + 1)]\n",
    "\n",
    "print(\"내용을 거꾸로 출력 --> %s \" %outStr)"
   ]
  },
  {
   "cell_type": "code",
   "execution_count": 25,
   "metadata": {},
   "outputs": [
    {
     "name": "stdout",
     "output_type": "stream",
     "text": [
      "파이썬COOKBOOK열공중\n"
     ]
    }
   ],
   "source": [
    "#assignment1 11번\n",
    "\n",
    "inStr = '파이썬 ### COOKBOOK $$$ @@@ 열공중 1234'\n",
    "outStr = ''\n",
    "\n",
    "strlen = len(inStr)\n",
    "\n",
    "for i in range(0, strlen):\n",
    "    if inStr[i] != '#' and inStr[i] != '$' and inStr[i] != '@' and inStr[i] !=' 'and inStr[i] != '1'and inStr[i] !='2'and inStr[i] !='3'and inStr[i] !='4':\n",
    "        outStr += inStr[i]\n",
    "\n",
    "print(outStr)"
   ]
  },
  {
   "cell_type": "code",
   "execution_count": null,
   "metadata": {},
   "outputs": [],
   "source": [
    "#assignment1 13번 \n",
    "\n",
    "inStr, outStr ='',''\n",
    "count, i =0, 0\n",
    "\n",
    "inStr=input('문자열을 입력하세요 : ')\n",
    "count = len(inStr)\n",
    "\n",
    "for i in range(0, count) :\n",
    "    outStr += inStr[count - (i + 1)]\n",
    "\n",
    "print('내용을 거꾸로 출력 --> %s' % outStr)"
   ]
  },
  {
   "cell_type": "code",
   "execution_count": null,
   "metadata": {},
   "outputs": [],
   "source": []
  }
 ],
 "metadata": {
  "kernelspec": {
   "display_name": "Python 3",
   "language": "python",
   "name": "python3"
  },
  "language_info": {
   "codemirror_mode": {
    "name": "ipython",
    "version": 3
   },
   "file_extension": ".py",
   "mimetype": "text/x-python",
   "name": "python",
   "nbconvert_exporter": "python",
   "pygments_lexer": "ipython3",
   "version": "3.10.4"
  }
 },
 "nbformat": 4,
 "nbformat_minor": 2
}
