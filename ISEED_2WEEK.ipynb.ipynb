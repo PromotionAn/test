{
 "cells": [
  {
   "cell_type": "code",
   "execution_count": 6,
   "metadata": {},
   "outputs": [
    {
     "name": "stdout",
     "output_type": "stream",
     "text": [
      "100\n",
      "100\n",
      "100\n",
      "50+50\n",
      "정답 4번\n"
     ]
    }
   ],
   "source": [
    "#1번\n",
    "print(\"100\")\n",
    "print(100)\n",
    "print(50+50)\n",
    "print(\"50+50\")\n",
    "\n",
    "print('정답 4번')"
   ]
  },
  {
   "cell_type": "code",
   "execution_count": 5,
   "metadata": {},
   "outputs": [
    {
     "name": "stdout",
     "output_type": "stream",
     "text": [
      "5 / 10 = 0\n",
      "정답 3번\n"
     ]
    }
   ],
   "source": [
    "#2번\n",
    "print('%d / %d = %d' %(5,10,5/10))\n",
    "\n",
    "print('정답 3번')"
   ]
  },
  {
   "cell_type": "code",
   "execution_count": 4,
   "metadata": {},
   "outputs": [
    {
     "name": "stdout",
     "output_type": "stream",
     "text": [
      " 876\n",
      "CookBook\n",
      "123.5\n"
     ]
    }
   ],
   "source": [
    "#3번\n",
    "# 876  , CookBook, 123.5\n",
    "\n",
    "print(\"%4d\" %876)\n",
    "print(\"%5s\" % \"CookBook\")\n",
    "print(\"%1.1f\" %123.45)"
   ]
  },
  {
   "cell_type": "code",
   "execution_count": 3,
   "metadata": {},
   "outputs": [
    {
     "name": "stdout",
     "output_type": "stream",
     "text": [
      "333111222\n",
      "정답 3번\n"
     ]
    }
   ],
   "source": [
    "#4번\n",
    "\n",
    "print(\"{2:d}{0:d}{1:d}\".format(111, 222, 333))\n",
    "\n",
    "print('정답 3번')"
   ]
  },
  {
   "cell_type": "code",
   "execution_count": null,
   "metadata": {},
   "outputs": [
    {
     "name": "stdout",
     "output_type": "stream",
     "text": [
      "11\n",
      "26\n"
     ]
    }
   ],
   "source": [
    "#11번\n",
    "\n",
    "print(int(\"1011\", 2))\n",
    "\n",
    "print(int(\"1A\", 16))\n"
   ]
  },
  {
   "cell_type": "code",
   "execution_count": 2,
   "metadata": {},
   "outputs": [
    {
     "ename": "ValueError",
     "evalue": "invalid literal for int() with base 2: '1002'",
     "output_type": "error",
     "traceback": [
      "\u001b[1;31m---------------------------------------------------------------------------\u001b[0m",
      "\u001b[1;31mValueError\u001b[0m                                Traceback (most recent call last)",
      "\u001b[1;32mc:\\Users\\com\\Desktop\\ai script\\TalkFile_iseed_hw2.ipynb.ipynb Cell 6\u001b[0m in \u001b[0;36m<cell line: 3>\u001b[1;34m()\u001b[0m\n\u001b[0;32m      <a href='vscode-notebook-cell:/c%3A/Users/com/Desktop/ai%20script/TalkFile_iseed_hw2.ipynb.ipynb#W6sZmlsZQ%3D%3D?line=0'>1</a>\u001b[0m \u001b[39m#13번\u001b[39;00m\n\u001b[1;32m----> <a href='vscode-notebook-cell:/c%3A/Users/com/Desktop/ai%20script/TalkFile_iseed_hw2.ipynb.ipynb#W6sZmlsZQ%3D%3D?line=2'>3</a>\u001b[0m \u001b[39mprint\u001b[39m(\u001b[39mint\u001b[39;49m(\u001b[39m'\u001b[39;49m\u001b[39m1002\u001b[39;49m\u001b[39m'\u001b[39;49m, \u001b[39m2\u001b[39;49m))\n\u001b[0;32m      <a href='vscode-notebook-cell:/c%3A/Users/com/Desktop/ai%20script/TalkFile_iseed_hw2.ipynb.ipynb#W6sZmlsZQ%3D%3D?line=3'>4</a>\u001b[0m \u001b[39mprint\u001b[39m(\u001b[39mint\u001b[39m (\u001b[39m'\u001b[39m\u001b[39m1008\u001b[39m\u001b[39m'\u001b[39m, \u001b[39m8\u001b[39m))\n\u001b[0;32m      <a href='vscode-notebook-cell:/c%3A/Users/com/Desktop/ai%20script/TalkFile_iseed_hw2.ipynb.ipynb#W6sZmlsZQ%3D%3D?line=4'>5</a>\u001b[0m \u001b[39mprint\u001b[39m(\u001b[39mint\u001b[39m(\u001b[39m'\u001b[39m\u001b[39mAAFG\u001b[39m\u001b[39m'\u001b[39m, \u001b[39m16\u001b[39m))\n",
      "\u001b[1;31mValueError\u001b[0m: invalid literal for int() with base 2: '1002'"
     ]
    }
   ],
   "source": [
    "#13번\n",
    "\n",
    "print(int('1002', 2))\n",
    "print(int ('1008', 8))\n",
    "print(int('AAFG', 16))\n",
    "\n",
    "#모두 오류\n",
    "#1번 이유: 2진수는 0과 1만 포함\n",
    "#2번 이유: 8진수는 0-7\n",
    "#3번 이유: 16진수 0-9"
   ]
  },
  {
   "cell_type": "code",
   "execution_count": 1,
   "metadata": {},
   "outputs": [
    {
     "name": "stdout",
     "output_type": "stream",
     "text": [
      "10진수 = 412345\n",
      "16진수 = 0x64ab9\n",
      "8진수 = 0o1445271\n",
      "2진수 = 0b1100100101010111001\n"
     ]
    }
   ],
   "source": [
    "#15번\n",
    "num = 412345\n",
    "\n",
    "hex_num = hex(num)  # 16진수로 변환\n",
    "oct_num = oct(num)  # 8진수로 변환\n",
    "bin_num = bin(num)  # 2진수로 변환\n",
    "\n",
    "print(\"10진수 =\", num)\n",
    "print(\"16진수 =\", hex_num)\n",
    "print(\"8진수 =\", oct_num)\n",
    "print(\"2진수 =\", bin_num)"
   ]
  }
 ],
 "metadata": {
  "kernelspec": {
   "display_name": "Python 3",
   "language": "python",
   "name": "python3"
  },
  "language_info": {
   "codemirror_mode": {
    "name": "ipython",
    "version": 3
   },
   "file_extension": ".py",
   "mimetype": "text/x-python",
   "name": "python",
   "nbconvert_exporter": "python",
   "pygments_lexer": "ipython3",
   "version": "3.10.4"
  }
 },
 "nbformat": 4,
 "nbformat_minor": 2
}
