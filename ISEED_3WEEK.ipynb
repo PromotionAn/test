{
 "cells": [
  {
   "cell_type": "code",
   "execution_count": 1,
   "metadata": {},
   "outputs": [
    {
     "name": "stdout",
     "output_type": "stream",
     "text": [
      "합격입니다 ^^\n"
     ]
    }
   ],
   "source": [
    "# 4번\n",
    "score = int(input('점수를 입력하세요 : '))\n",
    "\n",
    "if score >= 90 :\n",
    "    print('장학생',end ='')\n",
    "elif score >= 60 :\n",
    "    print('합격',end='')\n",
    "else :\n",
    "    print('불합격', end='')\n",
    "\n",
    "print('입니다 ^^')"
   ]
  },
  {
   "cell_type": "code",
   "execution_count": 2,
   "metadata": {},
   "outputs": [
    {
     "name": "stdout",
     "output_type": "stream",
     "text": [
      "홀수\n"
     ]
    }
   ],
   "source": [
    "#5번\n",
    "num = 5\n",
    "if num %2 ==0 :\n",
    "    res = '짝수'\n",
    "else :\n",
    "    res ='홀수'\n",
    "print(res)"
   ]
  },
  {
   "cell_type": "code",
   "execution_count": 5,
   "metadata": {},
   "outputs": [
    {
     "name": "stdout",
     "output_type": "stream",
     "text": [
      "홀수\n"
     ]
    }
   ],
   "source": [
    "#5번 답 1번\n",
    "res = '홀수' if num % 2 == 0 else'홀수'\n",
    "print(res)"
   ]
  },
  {
   "cell_type": "code",
   "execution_count": 11,
   "metadata": {},
   "outputs": [
    {
     "name": "stdout",
     "output_type": "stream",
     "text": [
      "[100, 777, 300, 400, 500]\n",
      "[100, [444, 555], 300, 400, 500]\n",
      "[100, 444, 555, 500]\n",
      "[100, 444]\n"
     ]
    }
   ],
   "source": [
    "#6번\n",
    "nn = [100, 200, 300, 400, 500]\n",
    "#6-1\n",
    "nn[1] = 777\n",
    "print(nn)\n",
    "\n",
    "#6-2\n",
    "nn[1]=[444,555]\n",
    "print(nn)\n",
    "\n",
    "#6-3\n",
    "nn[1:4] = [444,555]\n",
    "print(nn)\n",
    "\n",
    "#6-4\n",
    "nn[2:] =[]\n",
    "print(nn)"
   ]
  },
  {
   "cell_type": "code",
   "execution_count": 12,
   "metadata": {},
   "outputs": [
    {
     "name": "stdout",
     "output_type": "stream",
     "text": [
      "23088\n"
     ]
    }
   ],
   "source": [
    "#8번\n",
    "hap = 0\n",
    "for n in range(1234, 4568) :\n",
    "    if n%444 == 0:\n",
    "        hap += n\n",
    "print(hap)"
   ]
  },
  {
   "cell_type": "code",
   "execution_count": 18,
   "metadata": {},
   "outputs": [
    {
     "name": "stdout",
     "output_type": "stream",
     "text": [
      "23088\n"
     ]
    }
   ],
   "source": [
    "#8번 답\n",
    "hap = 0\n",
    "num = 1234\n",
    "while num < 4568:\n",
    "    if num%444 == 0:\n",
    "        hap += num\n",
    "    num += 1\n",
    "\n",
    "print(hap)"
   ]
  },
  {
   "cell_type": "code",
   "execution_count": 28,
   "metadata": {},
   "outputs": [
    {
     "name": "stdout",
     "output_type": "stream",
     "text": [
      "97063\n"
     ]
    }
   ],
   "source": [
    "#9번\n",
    "hap = 0\n",
    "for n in range(3333, 10000):\n",
    "    if n % 1234 == 0: \n",
    "        continue\n",
    "    hap += n\n",
    "    if hap >= 100000:  \n",
    "        hap -= n  \n",
    "        break\n",
    "print(hap)\n",
    "\n"
   ]
  },
  {
   "cell_type": "code",
   "execution_count": 30,
   "metadata": {},
   "outputs": [
    {
     "name": "stdout",
     "output_type": "stream",
     "text": [
      "[[2, 4], [3, 6]]\n"
     ]
    }
   ],
   "source": [
    "#14번\n",
    "myData = [[n*m for n in range(1, 3)] for m in range(2,4)]\n",
    "print(myData)"
   ]
  },
  {
   "cell_type": "code",
   "execution_count": 33,
   "metadata": {},
   "outputs": [
    {
     "name": "stdout",
     "output_type": "stream",
     "text": [
      "500\n",
      "500\n",
      "400\n",
      "[200, 300, 400]\n",
      "[100]\n",
      "[300, 400]\n",
      "[100, 300, 500]\n",
      "[500, 400, 300, 200, 100]\n",
      "[500, 300, 100]\n"
     ]
    }
   ],
   "source": [
    "#5번\n",
    "nn = [100, 200, 300, 400, 500]\n",
    "print(nn[4])\n",
    "print(nn[-1])\n",
    "print(nn[-2])\n",
    "print(nn[1:4])\n",
    "print(nn[0:1])\n",
    "print(nn[2:-1])\n",
    "print(nn[0::2])\n",
    "print(nn[::-1])\n",
    "print(nn[::-2])"
   ]
  },
  {
   "cell_type": "code",
   "execution_count": null,
   "metadata": {},
   "outputs": [],
   "source": []
  }
 ],
 "metadata": {
  "kernelspec": {
   "display_name": "Python 3",
   "language": "python",
   "name": "python3"
  },
  "language_info": {
   "codemirror_mode": {
    "name": "ipython",
    "version": 3
   },
   "file_extension": ".py",
   "mimetype": "text/x-python",
   "name": "python",
   "nbconvert_exporter": "python",
   "pygments_lexer": "ipython3",
   "version": "3.10.4"
  }
 },
 "nbformat": 4,
 "nbformat_minor": 2
}
