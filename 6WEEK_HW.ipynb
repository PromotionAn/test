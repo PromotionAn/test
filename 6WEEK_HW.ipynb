{
 "cells": [
  {
   "cell_type": "code",
   "execution_count": null,
   "metadata": {},
   "outputs": [],
   "source": [
    "#1번\n",
    "\n",
    "#정답 입력: input(), read(),readline(),readlines() 출력: print(), write(), writeline()"
   ]
  },
  {
   "cell_type": "code",
   "execution_count": null,
   "metadata": {},
   "outputs": [],
   "source": [
    "#2번 정답 1번"
   ]
  },
  {
   "cell_type": "code",
   "execution_count": null,
   "metadata": {},
   "outputs": [],
   "source": [
    "# 3번 정답 1번, 3번, 6번"
   ]
  },
  {
   "cell_type": "code",
   "execution_count": null,
   "metadata": {},
   "outputs": [],
   "source": [
    "#4번\n",
    "inFp = open('c:/temp/data1.text', 'r')\n",
    "\n",
    "inStr = inFp.readlines()\n",
    "print(inStr,end='')\n",
    "\n",
    "inFp.close()"
   ]
  },
  {
   "cell_type": "code",
   "execution_count": null,
   "metadata": {},
   "outputs": [],
   "source": [
    "# 6번\n",
    "inFp = open('C:/Windows/win.ini', 'r')\n",
    "outFp = open('C:/Temp/data3.txt', 'w')\n",
    "\n",
    "inList = inFp.readline()\n",
    "for inStr in inList:\n",
    "    outFp.writelines(inStr)\n",
    "\n",
    "inFp.close()\n",
    "outFp.close()"
   ]
  }
 ],
 "metadata": {
  "language_info": {
   "name": "python"
  }
 },
 "nbformat": 4,
 "nbformat_minor": 2
}
