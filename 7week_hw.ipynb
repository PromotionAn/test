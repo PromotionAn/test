{
 "cells": [
  {
   "cell_type": "code",
   "execution_count": 1,
   "metadata": {},
   "outputs": [],
   "source": [
    "# 2번\n",
    "class Car:\n",
    "    color = ''\n",
    "    speed = 0\n",
    "\n",
    "    def upSpeed(self, value) :\n",
    "        self.speed += value"
   ]
  },
  {
   "cell_type": "code",
   "execution_count": 4,
   "metadata": {},
   "outputs": [],
   "source": [
    "# 4번\n",
    "\n",
    "class Horse :\n",
    "    speed = 0\n",
    "\n",
    "    def __init__(self) :\n",
    "        self.speed = 50\n"
   ]
  },
  {
   "cell_type": "code",
   "execution_count": 2,
   "metadata": {},
   "outputs": [
    {
     "name": "stdout",
     "output_type": "stream",
     "text": [
      "super class\n",
      "sub class\n"
     ]
    }
   ],
   "source": [
    "# 6번\n",
    "\n",
    "class Car :\n",
    "    def method(self):\n",
    "        print('super class')\n",
    "\n",
    "class Sedan(Car) :\n",
    "    def method(self):\n",
    "        print('sub class')\n",
    "\n",
    "myCar = Car()\n",
    "mySedan = Sedan()\n",
    "myCar.method()\n",
    "mySedan.method()\n",
    "\n",
    "# 답 3번"
   ]
  },
  {
   "cell_type": "code",
   "execution_count": 3,
   "metadata": {},
   "outputs": [],
   "source": [
    "# 7번\n",
    "\n",
    "class Car :\n",
    "    speed = 0\n",
    "\n",
    "    def upSpeed(self, value) :\n",
    "        self.speed = self.speed + value\n",
    "\n",
    "class RVcar :\n",
    "    seatNum = 0\n",
    "\n",
    "    def getSeatNum(self):\n",
    "        return self.seatNum"
   ]
  }
 ],
 "metadata": {
  "kernelspec": {
   "display_name": "Python 3",
   "language": "python",
   "name": "python3"
  },
  "language_info": {
   "codemirror_mode": {
    "name": "ipython",
    "version": 3
   },
   "file_extension": ".py",
   "mimetype": "text/x-python",
   "name": "python",
   "nbconvert_exporter": "python",
   "pygments_lexer": "ipython3",
   "version": "3.11.9"
  }
 },
 "nbformat": 4,
 "nbformat_minor": 2
}
